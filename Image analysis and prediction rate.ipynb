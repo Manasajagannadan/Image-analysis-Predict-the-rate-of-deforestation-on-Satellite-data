{
 "cells": [
  {
   "cell_type": "markdown",
   "id": "89b4544d",
   "metadata": {},
   "source": [
    "# 1. Image analysis on Satellite data & Predict the rate of deforestation"
   ]
  },
  {
   "cell_type": "markdown",
   "id": "01ab5c6a",
   "metadata": {},
   "source": [
    "## 1.1 Install dependencies"
   ]
  },
  {
   "cell_type": "code",
   "execution_count": 1,
   "id": "29fee82f",
   "metadata": {},
   "outputs": [],
   "source": [
    "# !pip install numpy\n",
    "# !pip install matplotlib\n",
    "# !pip install opencv-python"
   ]
  },
  {
   "cell_type": "markdown",
   "id": "013e3489",
   "metadata": {},
   "source": [
    "## 1.2 Import dependencies"
   ]
  },
  {
   "cell_type": "code",
   "execution_count": 2,
   "id": "a06258f9",
   "metadata": {},
   "outputs": [],
   "source": [
    "# Import standard dependencies\n",
    "import cv2\n",
    "import os\n",
    "import random\n",
    "import numpy as np\n",
    "from matplotlib import pyplot as plt"
   ]
  },
  {
   "cell_type": "code",
   "execution_count": 3,
   "id": "b72fbcd1",
   "metadata": {},
   "outputs": [],
   "source": [
    "from keras.models import Model, Sequential\n",
    "from keras.layers import Input, Convolution2D, ZeroPadding2D, MaxPooling2D, Flatten, Dense, Dropout, Activation, BatchNormalization\n",
    "from keras.preprocessing.image import load_img, save_img, img_to_array\n",
    "from keras.applications.imagenet_utils import preprocess_input\n",
    "from keras.preprocessing import image"
   ]
  },
  {
   "cell_type": "markdown",
   "id": "bb6cdea3",
   "metadata": {},
   "source": [
    "## 1.3 Create Folder Structures"
   ]
  },
  {
   "cell_type": "code",
   "execution_count": null,
   "id": "49cc076a",
   "metadata": {},
   "outputs": [],
   "source": [
    "#set paths\n",
    "Train = os.path.join('Data', 'Train')\n",
    "Validate=os.path.join('Data', 'Validation')\n",
    "#Test="
   ]
  },
  {
   "cell_type": "code",
   "execution_count": null,
   "id": "29c8c4fe",
   "metadata": {},
   "outputs": [],
   "source": [
    "Train"
   ]
  },
  {
   "cell_type": "code",
   "execution_count": null,
   "id": "95aac5b7",
   "metadata": {},
   "outputs": [],
   "source": [
    "#make directories\n",
    "os.makedirs(Train)\n",
    "os.makedirs(Validate)"
   ]
  },
  {
   "cell_type": "markdown",
   "id": "83f06c52",
   "metadata": {},
   "source": [
    "# 2. Collect Training Dataset"
   ]
  },
  {
   "cell_type": "markdown",
   "id": "e9cd4c0c",
   "metadata": {},
   "source": [
    "## 2.1 Amazon Satellite images"
   ]
  },
  {
   "cell_type": "code",
   "execution_count": null,
   "id": "922e609e",
   "metadata": {},
   "outputs": [],
   "source": [
    "# https://www.kaggle.com/datasets/prosperchuks/amazonsatelliteimages?select=train-jpg"
   ]
  },
  {
   "cell_type": "code",
   "execution_count": null,
   "id": "6009f6e3",
   "metadata": {},
   "outputs": [],
   "source": [
    "# Uncompress the training data\n",
    "\n",
    "#import shutil\n",
    "#shutil.make_archive('a', 'zip', 'train-jpg')\n",
    "\n",
    "from zipfile import ZipFile\n",
    "ex = ZipFile('train-jpg.zip', 'r')\n",
    "ex.extractall('Data/Train')\n",
    "ex.close()"
   ]
  },
  {
   "cell_type": "code",
   "execution_count": 4,
   "id": "7e5ee2a8",
   "metadata": {},
   "outputs": [
    {
     "name": "stdout",
     "output_type": "stream",
     "text": [
      "256 256\n"
     ]
    }
   ],
   "source": [
    "from PIL import Image\n",
    "File = 'Data\\\\Train\\\\train_1.jpg'\n",
    "img = Image.open(File)\n",
    "print(img.width, img.height)"
   ]
  },
  {
   "cell_type": "code",
   "execution_count": 5,
   "id": "94668a7e",
   "metadata": {},
   "outputs": [
    {
     "name": "stdout",
     "output_type": "stream",
     "text": [
      "256 256\n"
     ]
    }
   ],
   "source": [
    "File1= 'Data\\\\Validation\\\\train_24.jpg'\n",
    "img1 = Image.open(File1)\n",
    "print(img1.width, img1.height)"
   ]
  },
  {
   "cell_type": "markdown",
   "id": "b68a7585",
   "metadata": {},
   "source": [
    "## 2.2 Create Labelled Dataset"
   ]
  },
  {
   "cell_type": "code",
   "execution_count": 6,
   "id": "223a7408",
   "metadata": {},
   "outputs": [],
   "source": [
    "c =len(os.listdir('Data\\\\Train'))"
   ]
  },
  {
   "cell_type": "code",
   "execution_count": 7,
   "id": "44261b13",
   "metadata": {},
   "outputs": [
    {
     "data": {
      "text/plain": [
       "3600"
      ]
     },
     "execution_count": 7,
     "metadata": {},
     "output_type": "execute_result"
    }
   ],
   "source": [
    "c"
   ]
  },
  {
   "cell_type": "code",
   "execution_count": 8,
   "id": "d21db668",
   "metadata": {},
   "outputs": [],
   "source": [
    "def pixels_from_path(file_path):\n",
    "    im = Image.open(file_path)\n",
    "    np_im = np.array(im)\n",
    "    #matrix of pixel RGB values\n",
    "    return np_im"
   ]
  },
  {
   "cell_type": "code",
   "execution_count": 9,
   "id": "02a6759e",
   "metadata": {},
   "outputs": [
    {
     "name": "stdout",
     "output_type": "stream",
     "text": [
      "(3600,)\n"
     ]
    }
   ],
   "source": [
    "import glob\n",
    "from random import randint\n",
    "y1=1\n",
    "sample_size = len(os.listdir('Data\\\\Train'))\n",
    "#n1 = randint(0, sample_size)\n",
    "train_img_set = np.asarray([pixels_from_path(Train) for Train in glob.glob('Data\\\\Train\\\\*')[:sample_size]])\n",
    "train_label = np.asarray([y1+x1 for x1 in range(sample_size)])\n",
    "print(train_label.shape)"
   ]
  },
  {
   "cell_type": "code",
   "execution_count": 10,
   "id": "d47d581e",
   "metadata": {},
   "outputs": [
    {
     "data": {
      "text/plain": [
       "array([   1,    2,    3, ..., 3598, 3599, 3600])"
      ]
     },
     "execution_count": 10,
     "metadata": {},
     "output_type": "execute_result"
    }
   ],
   "source": [
    "train_label"
   ]
  },
  {
   "cell_type": "code",
   "execution_count": 11,
   "id": "91971f3b",
   "metadata": {},
   "outputs": [
    {
     "name": "stdout",
     "output_type": "stream",
     "text": [
      "(500,)\n"
     ]
    }
   ],
   "source": [
    "y=1\n",
    "valid_size = len(os.listdir('Data\\\\Validation'))\n",
    "#n = randint(0, valid_size)\n",
    "valid_img_set = np.asarray([pixels_from_path(Validation) for Validation in glob.glob('Data\\\\Validation\\\\*')[:valid_size]])\n",
    "valid_label = np.asarray([y+x for x in range(valid_size)])\n",
    "print(valid_label.shape)"
   ]
  },
  {
   "cell_type": "code",
   "execution_count": 12,
   "id": "f12725dc",
   "metadata": {},
   "outputs": [
    {
     "data": {
      "text/plain": [
       "array([  1,   2,   3,   4,   5,   6,   7,   8,   9,  10,  11,  12,  13,\n",
       "        14,  15,  16,  17,  18,  19,  20,  21,  22,  23,  24,  25,  26,\n",
       "        27,  28,  29,  30,  31,  32,  33,  34,  35,  36,  37,  38,  39,\n",
       "        40,  41,  42,  43,  44,  45,  46,  47,  48,  49,  50,  51,  52,\n",
       "        53,  54,  55,  56,  57,  58,  59,  60,  61,  62,  63,  64,  65,\n",
       "        66,  67,  68,  69,  70,  71,  72,  73,  74,  75,  76,  77,  78,\n",
       "        79,  80,  81,  82,  83,  84,  85,  86,  87,  88,  89,  90,  91,\n",
       "        92,  93,  94,  95,  96,  97,  98,  99, 100, 101, 102, 103, 104,\n",
       "       105, 106, 107, 108, 109, 110, 111, 112, 113, 114, 115, 116, 117,\n",
       "       118, 119, 120, 121, 122, 123, 124, 125, 126, 127, 128, 129, 130,\n",
       "       131, 132, 133, 134, 135, 136, 137, 138, 139, 140, 141, 142, 143,\n",
       "       144, 145, 146, 147, 148, 149, 150, 151, 152, 153, 154, 155, 156,\n",
       "       157, 158, 159, 160, 161, 162, 163, 164, 165, 166, 167, 168, 169,\n",
       "       170, 171, 172, 173, 174, 175, 176, 177, 178, 179, 180, 181, 182,\n",
       "       183, 184, 185, 186, 187, 188, 189, 190, 191, 192, 193, 194, 195,\n",
       "       196, 197, 198, 199, 200, 201, 202, 203, 204, 205, 206, 207, 208,\n",
       "       209, 210, 211, 212, 213, 214, 215, 216, 217, 218, 219, 220, 221,\n",
       "       222, 223, 224, 225, 226, 227, 228, 229, 230, 231, 232, 233, 234,\n",
       "       235, 236, 237, 238, 239, 240, 241, 242, 243, 244, 245, 246, 247,\n",
       "       248, 249, 250, 251, 252, 253, 254, 255, 256, 257, 258, 259, 260,\n",
       "       261, 262, 263, 264, 265, 266, 267, 268, 269, 270, 271, 272, 273,\n",
       "       274, 275, 276, 277, 278, 279, 280, 281, 282, 283, 284, 285, 286,\n",
       "       287, 288, 289, 290, 291, 292, 293, 294, 295, 296, 297, 298, 299,\n",
       "       300, 301, 302, 303, 304, 305, 306, 307, 308, 309, 310, 311, 312,\n",
       "       313, 314, 315, 316, 317, 318, 319, 320, 321, 322, 323, 324, 325,\n",
       "       326, 327, 328, 329, 330, 331, 332, 333, 334, 335, 336, 337, 338,\n",
       "       339, 340, 341, 342, 343, 344, 345, 346, 347, 348, 349, 350, 351,\n",
       "       352, 353, 354, 355, 356, 357, 358, 359, 360, 361, 362, 363, 364,\n",
       "       365, 366, 367, 368, 369, 370, 371, 372, 373, 374, 375, 376, 377,\n",
       "       378, 379, 380, 381, 382, 383, 384, 385, 386, 387, 388, 389, 390,\n",
       "       391, 392, 393, 394, 395, 396, 397, 398, 399, 400, 401, 402, 403,\n",
       "       404, 405, 406, 407, 408, 409, 410, 411, 412, 413, 414, 415, 416,\n",
       "       417, 418, 419, 420, 421, 422, 423, 424, 425, 426, 427, 428, 429,\n",
       "       430, 431, 432, 433, 434, 435, 436, 437, 438, 439, 440, 441, 442,\n",
       "       443, 444, 445, 446, 447, 448, 449, 450, 451, 452, 453, 454, 455,\n",
       "       456, 457, 458, 459, 460, 461, 462, 463, 464, 465, 466, 467, 468,\n",
       "       469, 470, 471, 472, 473, 474, 475, 476, 477, 478, 479, 480, 481,\n",
       "       482, 483, 484, 485, 486, 487, 488, 489, 490, 491, 492, 493, 494,\n",
       "       495, 496, 497, 498, 499, 500])"
      ]
     },
     "execution_count": 12,
     "metadata": {},
     "output_type": "execute_result"
    }
   ],
   "source": [
    "valid_label"
   ]
  },
  {
   "cell_type": "code",
   "execution_count": 13,
   "id": "0ba0a203",
   "metadata": {},
   "outputs": [
    {
     "data": {
      "text/plain": [
       "(500, 256, 256, 4)"
      ]
     },
     "execution_count": 13,
     "metadata": {},
     "output_type": "execute_result"
    }
   ],
   "source": [
    "valid_img_set.shape"
   ]
  },
  {
   "cell_type": "code",
   "execution_count": 14,
   "id": "065d3f31",
   "metadata": {},
   "outputs": [
    {
     "data": {
      "text/plain": [
       "(3600, 256, 256, 4)"
      ]
     },
     "execution_count": 14,
     "metadata": {},
     "output_type": "execute_result"
    }
   ],
   "source": [
    "train_img_set.shape"
   ]
  },
  {
   "cell_type": "markdown",
   "id": "75b4bef8",
   "metadata": {},
   "source": [
    "# 3. Model Engineering"
   ]
  },
  {
   "cell_type": "markdown",
   "id": "28e8023b",
   "metadata": {},
   "source": [
    "## 3.1 Build Custome Model "
   ]
  },
  {
   "cell_type": "code",
   "execution_count": 15,
   "id": "71f37c63",
   "metadata": {},
   "outputs": [],
   "source": [
    "def load_custom_model():\n",
    "    model = Sequential()\n",
    "    model.add(Convolution2D(64, (3, 3), activation='relu',input_shape=(256, 256, 4)))\n",
    "    model.add(Convolution2D(64, (3, 3), activation='relu'))\n",
    "    model.add(MaxPooling2D((2,2)))\n",
    "    model.add(Dropout(0.25))\n",
    "\n",
    "    model.add(Convolution2D(128, (3, 3), activation='relu'))\n",
    "    model.add(Convolution2D(128, (3, 3), activation='relu'))\n",
    "    model.add(MaxPooling2D((2,2)))\n",
    "    model.add(Dropout(0.25))\n",
    "\n",
    "    model.add(Convolution2D(256, (3, 3), activation='relu'))\n",
    "    model.add(Convolution2D(256, (3, 3), activation='relu'))\n",
    "    model.add(MaxPooling2D((2,2)))\n",
    "    model.add(Dropout(0.25))\n",
    "\n",
    "    model.add(Convolution2D(512, (3, 3), activation='relu'))\n",
    "    model.add(Convolution2D(512, (3, 3), activation='relu'))\n",
    "    model.add(MaxPooling2D((2,2)))\n",
    "    model.add(Dropout(0.5))\n",
    "    model.add(BatchNormalization())\n",
    "\n",
    "    model.add(Flatten())\n",
    "    model.add(Activation('softmax'))\n",
    "\n",
    "    x = Model(inputs=model.layers[0].input, outputs=model.layers[-2].output)\n",
    "\n",
    "    return x"
   ]
  },
  {
   "cell_type": "code",
   "execution_count": 16,
   "id": "4c41f9f3",
   "metadata": {},
   "outputs": [],
   "source": [
    "model = load_custom_model()"
   ]
  },
  {
   "cell_type": "markdown",
   "id": "85415db1",
   "metadata": {},
   "source": [
    "# 4. Training"
   ]
  },
  {
   "cell_type": "markdown",
   "id": "6ccef986",
   "metadata": {},
   "source": [
    "## 4.1 Setup Loss and Optimizer"
   ]
  },
  {
   "cell_type": "code",
   "execution_count": 17,
   "id": "49125a17",
   "metadata": {},
   "outputs": [],
   "source": [
    "model.compile(loss='sparse_categorical_crossentropy', optimizer='adam', metrics=['accuracy'])"
   ]
  },
  {
   "cell_type": "code",
   "execution_count": 18,
   "id": "511436a7",
   "metadata": {},
   "outputs": [
    {
     "name": "stdout",
     "output_type": "stream",
     "text": [
      "Model: \"model\"\n",
      "_________________________________________________________________\n",
      "Layer (type)                 Output Shape              Param #   \n",
      "=================================================================\n",
      "conv2d_input (InputLayer)    [(None, 256, 256, 4)]     0         \n",
      "_________________________________________________________________\n",
      "conv2d (Conv2D)              (None, 254, 254, 64)      2368      \n",
      "_________________________________________________________________\n",
      "conv2d_1 (Conv2D)            (None, 252, 252, 64)      36928     \n",
      "_________________________________________________________________\n",
      "max_pooling2d (MaxPooling2D) (None, 126, 126, 64)      0         \n",
      "_________________________________________________________________\n",
      "dropout (Dropout)            (None, 126, 126, 64)      0         \n",
      "_________________________________________________________________\n",
      "conv2d_2 (Conv2D)            (None, 124, 124, 128)     73856     \n",
      "_________________________________________________________________\n",
      "conv2d_3 (Conv2D)            (None, 122, 122, 128)     147584    \n",
      "_________________________________________________________________\n",
      "max_pooling2d_1 (MaxPooling2 (None, 61, 61, 128)       0         \n",
      "_________________________________________________________________\n",
      "dropout_1 (Dropout)          (None, 61, 61, 128)       0         \n",
      "_________________________________________________________________\n",
      "conv2d_4 (Conv2D)            (None, 59, 59, 256)       295168    \n",
      "_________________________________________________________________\n",
      "conv2d_5 (Conv2D)            (None, 57, 57, 256)       590080    \n",
      "_________________________________________________________________\n",
      "max_pooling2d_2 (MaxPooling2 (None, 28, 28, 256)       0         \n",
      "_________________________________________________________________\n",
      "dropout_2 (Dropout)          (None, 28, 28, 256)       0         \n",
      "_________________________________________________________________\n",
      "conv2d_6 (Conv2D)            (None, 26, 26, 512)       1180160   \n",
      "_________________________________________________________________\n",
      "conv2d_7 (Conv2D)            (None, 24, 24, 512)       2359808   \n",
      "_________________________________________________________________\n",
      "max_pooling2d_3 (MaxPooling2 (None, 12, 12, 512)       0         \n",
      "_________________________________________________________________\n",
      "dropout_3 (Dropout)          (None, 12, 12, 512)       0         \n",
      "_________________________________________________________________\n",
      "batch_normalization (BatchNo (None, 12, 12, 512)       2048      \n",
      "_________________________________________________________________\n",
      "flatten (Flatten)            (None, 73728)             0         \n",
      "=================================================================\n",
      "Total params: 4,688,000\n",
      "Trainable params: 4,686,976\n",
      "Non-trainable params: 1,024\n",
      "_________________________________________________________________\n"
     ]
    }
   ],
   "source": [
    "model.summary()"
   ]
  },
  {
   "cell_type": "code",
   "execution_count": 19,
   "id": "4cf9d6a9",
   "metadata": {},
   "outputs": [
    {
     "name": "stdout",
     "output_type": "stream",
     "text": [
      "Epoch 1/3\n",
      "113/113 [==============================] - 1419s 13s/step - loss: 13.4092 - accuracy: 0.0000e+00 - val_loss: 11.2081 - val_accuracy: 0.0020\n",
      "Epoch 2/3\n",
      "113/113 [==============================] - 1290s 11s/step - loss: 11.2127 - accuracy: 3.2888e-04 - val_loss: 11.2081 - val_accuracy: 0.0020\n",
      "Epoch 3/3\n",
      "113/113 [==============================] - 1260s 11s/step - loss: 11.2104 - accuracy: 0.0000e+00 - val_loss: 11.2081 - val_accuracy: 0.0020\n"
     ]
    }
   ],
   "source": [
    "epoch=3\n",
    "history = model.fit(np.array(train_img_set),\n",
    "                    np.array(train_label),\n",
    "                    shuffle=True,\n",
    "                    epochs=3,\n",
    "                    validation_data=(np.array(valid_img_set),np.array(valid_label))\n",
    "                   )"
   ]
  },
  {
   "cell_type": "markdown",
   "id": "7aac5479",
   "metadata": {},
   "source": [
    "# 5. Build Model From IEEE website\n",
    "\n",
    "#### from https://ieeexplore.ieee.org/document/8121895"
   ]
  },
  {
   "cell_type": "code",
   "execution_count": 20,
   "id": "32a0254a",
   "metadata": {},
   "outputs": [],
   "source": [
    "def load_IEEE_model():\n",
    "    model1 = Sequential()\n",
    "    model1.add(Convolution2D(64, (3, 3), activation='relu',input_shape=(256, 256, 4)))\n",
    "    model1.add(Convolution2D(64, (3, 3), activation='relu'))\n",
    "    model1.add(MaxPooling2D((2,2)))\n",
    "    model1.add(Dropout(0.25))\n",
    "\n",
    "    model1.add(Convolution2D(128, (3, 3), activation='relu'))\n",
    "    model1.add(Convolution2D(128, (3, 3), activation='relu'))\n",
    "    model1.add(MaxPooling2D((2,2)))\n",
    "    model1.add(Dropout(0.25))\n",
    "\n",
    "    model1.add(Convolution2D(256, (3, 3), activation='relu'))\n",
    "    model1.add(Convolution2D(256, (3, 3), activation='relu'))\n",
    "    model1.add(MaxPooling2D((2,2)))\n",
    "    model1.add(Dropout(0.25))\n",
    "\n",
    "    model1.add(Convolution2D(512, (3, 3), activation='relu'))\n",
    "    model1.add(Convolution2D(512, (3, 3), activation='relu'))\n",
    "    model1.add(MaxPooling2D((2,2)))\n",
    "    model1.add(Dropout(0.5))\n",
    "    model1.add(BatchNormalization())\n",
    "\n",
    "    model1.add(Flatten())\n",
    "    model1.add(Activation('sigmoid'))\n",
    "\n",
    "    x = Model(inputs=model1.layers[0].input, outputs=model1.layers[-2].output)\n",
    "\n",
    "    return x"
   ]
  },
  {
   "cell_type": "code",
   "execution_count": 21,
   "id": "f0996d9a",
   "metadata": {},
   "outputs": [],
   "source": [
    "model1 = load_IEEE_model()"
   ]
  },
  {
   "cell_type": "markdown",
   "id": "07a89f39",
   "metadata": {},
   "source": [
    "## 5.1 Setup Loss and Optimizer"
   ]
  },
  {
   "cell_type": "code",
   "execution_count": 22,
   "id": "25e48810",
   "metadata": {},
   "outputs": [],
   "source": [
    "model1.compile(loss='binary_crossentropy', optimizer='adam', metrics=['accuracy'])"
   ]
  },
  {
   "cell_type": "code",
   "execution_count": 23,
   "id": "47ecf3cf",
   "metadata": {},
   "outputs": [
    {
     "name": "stdout",
     "output_type": "stream",
     "text": [
      "Model: \"model_1\"\n",
      "_________________________________________________________________\n",
      "Layer (type)                 Output Shape              Param #   \n",
      "=================================================================\n",
      "conv2d_8_input (InputLayer)  [(None, 256, 256, 4)]     0         \n",
      "_________________________________________________________________\n",
      "conv2d_8 (Conv2D)            (None, 254, 254, 64)      2368      \n",
      "_________________________________________________________________\n",
      "conv2d_9 (Conv2D)            (None, 252, 252, 64)      36928     \n",
      "_________________________________________________________________\n",
      "max_pooling2d_4 (MaxPooling2 (None, 126, 126, 64)      0         \n",
      "_________________________________________________________________\n",
      "dropout_4 (Dropout)          (None, 126, 126, 64)      0         \n",
      "_________________________________________________________________\n",
      "conv2d_10 (Conv2D)           (None, 124, 124, 128)     73856     \n",
      "_________________________________________________________________\n",
      "conv2d_11 (Conv2D)           (None, 122, 122, 128)     147584    \n",
      "_________________________________________________________________\n",
      "max_pooling2d_5 (MaxPooling2 (None, 61, 61, 128)       0         \n",
      "_________________________________________________________________\n",
      "dropout_5 (Dropout)          (None, 61, 61, 128)       0         \n",
      "_________________________________________________________________\n",
      "conv2d_12 (Conv2D)           (None, 59, 59, 256)       295168    \n",
      "_________________________________________________________________\n",
      "conv2d_13 (Conv2D)           (None, 57, 57, 256)       590080    \n",
      "_________________________________________________________________\n",
      "max_pooling2d_6 (MaxPooling2 (None, 28, 28, 256)       0         \n",
      "_________________________________________________________________\n",
      "dropout_6 (Dropout)          (None, 28, 28, 256)       0         \n",
      "_________________________________________________________________\n",
      "conv2d_14 (Conv2D)           (None, 26, 26, 512)       1180160   \n",
      "_________________________________________________________________\n",
      "conv2d_15 (Conv2D)           (None, 24, 24, 512)       2359808   \n",
      "_________________________________________________________________\n",
      "max_pooling2d_7 (MaxPooling2 (None, 12, 12, 512)       0         \n",
      "_________________________________________________________________\n",
      "dropout_7 (Dropout)          (None, 12, 12, 512)       0         \n",
      "_________________________________________________________________\n",
      "batch_normalization_1 (Batch (None, 12, 12, 512)       2048      \n",
      "_________________________________________________________________\n",
      "flatten_1 (Flatten)          (None, 73728)             0         \n",
      "=================================================================\n",
      "Total params: 4,688,000\n",
      "Trainable params: 4,686,976\n",
      "Non-trainable params: 1,024\n",
      "_________________________________________________________________\n"
     ]
    }
   ],
   "source": [
    "model1.summary()"
   ]
  },
  {
   "cell_type": "code",
   "execution_count": 24,
   "id": "1b7f5d26",
   "metadata": {},
   "outputs": [
    {
     "name": "stdout",
     "output_type": "stream",
     "text": [
      "Epoch 1/3\n",
      "113/113 [==============================] - 1310s 12s/step - loss: 6454.7358 - accuracy: 0.0000e+00 - val_loss: -2352.3625 - val_accuracy: 0.0000e+00\n",
      "Epoch 2/3\n",
      "113/113 [==============================] - 1272s 11s/step - loss: 4521.1760 - accuracy: 9.6620e-05 - val_loss: 864.4354 - val_accuracy: 0.0000e+00\n",
      "Epoch 3/3\n",
      "113/113 [==============================] - 2659s 24s/step - loss: 3664.9801 - accuracy: 0.0000e+00 - val_loss: -967.3395 - val_accuracy: 0.0000e+00\n"
     ]
    }
   ],
   "source": [
    "epoch=3\n",
    "history_ieee = model1.fit(np.array(train_img_set),\n",
    "                    np.array(train_label),\n",
    "                    shuffle=True,\n",
    "                    epochs=3,\n",
    "                    validation_data=(np.array(valid_img_set),np.array(valid_label))\n",
    "                   )"
   ]
  },
  {
   "cell_type": "markdown",
   "id": "6137d9ec",
   "metadata": {},
   "source": [
    "# 6. Save Both Models"
   ]
  },
  {
   "cell_type": "code",
   "execution_count": 25,
   "id": "597b71f6",
   "metadata": {},
   "outputs": [],
   "source": [
    "model.save('custom_model.h5')"
   ]
  },
  {
   "cell_type": "code",
   "execution_count": 26,
   "id": "f862d7de",
   "metadata": {},
   "outputs": [],
   "source": [
    "model1.save('model_IEEE.h5')"
   ]
  },
  {
   "cell_type": "markdown",
   "id": "ccb1c0e8",
   "metadata": {},
   "source": [
    "# 7. Data Visualization"
   ]
  },
  {
   "cell_type": "markdown",
   "id": "9b566a47",
   "metadata": {},
   "source": [
    "## 7.1 Display Training History for \"Custom Model\""
   ]
  },
  {
   "cell_type": "code",
   "execution_count": 42,
   "id": "075e4fd0",
   "metadata": {},
   "outputs": [
    {
     "data": {
      "image/png": "[encoded data removed]",
      "text/plain": [
       "<Figure size 432x288 with 1 Axes>"
      ]
     },
     "metadata": {
      "needs_background": "light"
     },
     "output_type": "display_data"
    }
   ],
   "source": [
    "plt.plot(history.history['accuracy'])\n",
    "plt.plot(history.history['val_accuracy'])\n",
    "plt.title('Model Accuracy: Custom Model')\n",
    "plt.xlabel('Epochs')\n",
    "plt.ylabel('Accuracy')\n",
    "plt.legend(['Train', 'Validation'], loc='upper left')\n",
    "plt.show()"
   ]
  },
  {
   "cell_type": "markdown",
   "id": "24153f89",
   "metadata": {},
   "source": [
    "## 7.2 Display Training History for \"IEEE Model\""
   ]
  },
  {
   "cell_type": "code",
   "execution_count": 43,
   "id": "f2eb83a6",
   "metadata": {},
   "outputs": [
    {
     "data": {
      "image/png": "[encoded data removed]",
      "text/plain": [
       "<Figure size 432x288 with 1 Axes>"
      ]
     },
     "metadata": {
      "needs_background": "light"
     },
     "output_type": "display_data"
    }
   ],
   "source": [
    "plt.plot(history_ieee.history['accuracy'])\n",
    "plt.plot(history_ieee.history['val_accuracy'])\n",
    "plt.title('Model Accuracy: Custom Model')\n",
    "plt.xlabel('Epochs')\n",
    "plt.ylabel('Accuracy')\n",
    "plt.legend(['Train', 'Validation'], loc='upper left')\n",
    "plt.show()"
   ]
  },
  {
   "cell_type": "markdown",
   "id": "4222db01",
   "metadata": {},
   "source": [
    "## 7.3 Display Loss History \"Custom Model\""
   ]
  },
  {
   "cell_type": "code",
   "execution_count": 44,
   "id": "4db2d4a2",
   "metadata": {},
   "outputs": [
    {
     "data": {
      "image/png": "[encoded data removed]",
      "text/plain": [
       "<Figure size 432x288 with 1 Axes>"
      ]
     },
     "metadata": {
      "needs_background": "light"
     },
     "output_type": "display_data"
    }
   ],
   "source": [
    "plt.plot(history.history['loss'])\n",
    "plt.plot(history.history['val_loss'])\n",
    "plt.title('Model loss: Custom Model')\n",
    "plt.xlabel('Epochs')\n",
    "plt.ylabel('Loss')\n",
    "plt.legend(['Train', 'Validation'], loc='upper left')\n",
    "plt.show()"
   ]
  },
  {
   "cell_type": "markdown",
   "id": "7c2079ea",
   "metadata": {},
   "source": [
    "## 7.4 Display Loss History \"IEEE Model\""
   ]
  },
  {
   "cell_type": "code",
   "execution_count": 45,
   "id": "95fefb53",
   "metadata": {},
   "outputs": [
    {
     "data": {
      "image/png": "[encoded data removed]",
      "text/plain": [
       "<Figure size 432x288 with 1 Axes>"
      ]
     },
     "metadata": {
      "needs_background": "light"
     },
     "output_type": "display_data"
    }
   ],
   "source": [
    "plt.plot(history_ieee.history['loss'])\n",
    "plt.plot(history_ieee.history['val_loss'])\n",
    "plt.title('Model loss: Custom Model')\n",
    "plt.xlabel('Epochs')\n",
    "plt.ylabel('Loss')\n",
    "plt.legend(['Train', 'Validation'], loc='upper left')\n",
    "plt.show()"
   ]
  },
  {
   "cell_type": "markdown",
   "id": "d4ff2f39",
   "metadata": {},
   "source": [
    "# 8. Prediction"
   ]
  },
  {
   "cell_type": "markdown",
   "id": "6f87b32e",
   "metadata": {},
   "source": [
    "## 8.1 For Custom Model"
   ]
  },
  {
   "cell_type": "code",
   "execution_count": 28,
   "id": "e4a8e121",
   "metadata": {},
   "outputs": [],
   "source": [
    "img_t = np.array(Image.open(\"Data\\\\Train\\\\train_3.jpg\").resize((256, 256)))\n",
    "image_list=[]\n",
    "image_list.append(np.array(img_t))\n",
    "x11=np.asarray(image_list)\n",
    "#print(\"shape:\", img_t.shape)\n",
    "prediction = model.predict(x11).round()"
   ]
  },
  {
   "cell_type": "code",
   "execution_count": 36,
   "id": "c144ff0d",
   "metadata": {},
   "outputs": [
    {
     "name": "stdout",
     "output_type": "stream",
     "text": [
      "shape: (256, 256, 4)\n"
     ]
    }
   ],
   "source": [
    "print(\"shape:\", img_t.shape)"
   ]
  },
  {
   "cell_type": "code",
   "execution_count": 37,
   "id": "301bd519",
   "metadata": {},
   "outputs": [
    {
     "data": {
      "text/plain": [
       "array([[[203, 192, 205,   0],\n",
       "        [201, 191, 205,   0],\n",
       "        [202, 190, 204,   0],\n",
       "        ...,\n",
       "        [196, 182, 199,   0],\n",
       "        [201, 186, 197,   0],\n",
       "        [207, 191, 197,   0]],\n",
       "\n",
       "       [[203, 191, 205,   0],\n",
       "        [200, 190, 205,   0],\n",
       "        [201, 189, 204,   0],\n",
       "        ...,\n",
       "        [197, 181, 200,   0],\n",
       "        [202, 185, 198,   0],\n",
       "        [208, 190, 198,   0]],\n",
       "\n",
       "       [[205, 190, 207,   0],\n",
       "        [203, 190, 206,   0],\n",
       "        [203, 189, 205,   0],\n",
       "        ...,\n",
       "        [198, 182, 200,   0],\n",
       "        [203, 185, 199,   0],\n",
       "        [208, 189, 200,   0]],\n",
       "\n",
       "       ...,\n",
       "\n",
       "       [[208, 193, 203,   0],\n",
       "        [209, 197, 202,   0],\n",
       "        [209, 199, 201,   0],\n",
       "        ...,\n",
       "        [198, 181, 193,   0],\n",
       "        [198, 185, 194,   0],\n",
       "        [198, 188, 195,   0]],\n",
       "\n",
       "       [[211, 198, 203,   0],\n",
       "        [211, 197, 202,   0],\n",
       "        [210, 196, 201,   0],\n",
       "        ...,\n",
       "        [200, 183, 193,   0],\n",
       "        [199, 186, 194,   0],\n",
       "        [199, 189, 196,   0]],\n",
       "\n",
       "       [[212, 202, 204,   0],\n",
       "        [212, 197, 202,   0],\n",
       "        [210, 192, 201,   0],\n",
       "        ...,\n",
       "        [202, 186, 194,   0],\n",
       "        [202, 187, 195,   0],\n",
       "        [201, 189, 197,   0]]], dtype=uint8)"
      ]
     },
     "execution_count": 37,
     "metadata": {},
     "output_type": "execute_result"
    }
   ],
   "source": [
    "img_t"
   ]
  },
  {
   "cell_type": "code",
   "execution_count": 29,
   "id": "76476871",
   "metadata": {},
   "outputs": [
    {
     "data": {
      "text/plain": [
       "array([[-0., -0., -0., ..., -0., -0., -0.]], dtype=float32)"
      ]
     },
     "execution_count": 29,
     "metadata": {},
     "output_type": "execute_result"
    }
   ],
   "source": [
    "prediction"
   ]
  },
  {
   "cell_type": "code",
   "execution_count": 30,
   "id": "1f4c8ba5",
   "metadata": {},
   "outputs": [
    {
     "data": {
      "text/plain": [
       "(1, 73728)"
      ]
     },
     "execution_count": 30,
     "metadata": {},
     "output_type": "execute_result"
    }
   ],
   "source": [
    "prediction.shape"
   ]
  },
  {
   "cell_type": "code",
   "execution_count": 51,
   "id": "41b8ba4c",
   "metadata": {},
   "outputs": [
    {
     "data": {
      "text/plain": [
       "262144"
      ]
     },
     "execution_count": 51,
     "metadata": {},
     "output_type": "execute_result"
    }
   ],
   "source": [
    "np.size(img_t)"
   ]
  },
  {
   "cell_type": "markdown",
   "id": "e239830e",
   "metadata": {},
   "source": [
    "## 8.2 For IEEE Model"
   ]
  },
  {
   "cell_type": "code",
   "execution_count": 33,
   "id": "bfafb917",
   "metadata": {},
   "outputs": [],
   "source": [
    "img_train = np.array(Image.open(\"Data\\\\Train\\\\train_3.jpg\").resize((256, 256)))\n",
    "image_list1=[]\n",
    "image_list1.append(np.array(img_train))\n",
    "x12=np.asarray(image_list1)\n",
    "#print(\"shape:\", img_t.shape)\n",
    "prediction_train = model1.predict(x12).round()"
   ]
  },
  {
   "cell_type": "code",
   "execution_count": 34,
   "id": "26d6c456",
   "metadata": {},
   "outputs": [
    {
     "data": {
      "text/plain": [
       "array([[1., 1., 1., ..., 1., 1., 1.]], dtype=float32)"
      ]
     },
     "execution_count": 34,
     "metadata": {},
     "output_type": "execute_result"
    }
   ],
   "source": [
    "prediction_train"
   ]
  },
  {
   "cell_type": "code",
   "execution_count": 35,
   "id": "161bc4a4",
   "metadata": {},
   "outputs": [
    {
     "data": {
      "text/plain": [
       "(1, 73728)"
      ]
     },
     "execution_count": 35,
     "metadata": {},
     "output_type": "execute_result"
    }
   ],
   "source": [
    "prediction_train.shape"
   ]
  },
  {
   "cell_type": "markdown",
   "id": "499fe4fd",
   "metadata": {},
   "source": [
    "# Thank you"
   ]
  },
  {
   "cell_type": "code",
   "execution_count": null,
   "id": "f9259a37",
   "metadata": {},
   "outputs": [],
   "source": []
  }
 ],
 "metadata": {
  "kernelspec": {
   "display_name": "Python 3",
   "language": "python",
   "name": "python3"
  },
  "language_info": {
   "codemirror_mode": {
    "name": "ipython",
    "version": 3
   },
   "file_extension": ".py",
   "mimetype": "text/x-python",
   "name": "python",
   "nbconvert_exporter": "python",
   "pygments_lexer": "ipython3",
   "version": "3.8.8"
  }
 },
 "nbformat": 4,
 "nbformat_minor": 5
}
